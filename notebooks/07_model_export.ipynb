{
 "cells": [
  {
   "cell_type": "code",
   "execution_count": 1,
   "id": "3e176cfa",
   "metadata": {},
   "outputs": [],
   "source": [
    "import pandas as pd\n",
    "from sklearn.model_selection import train_test_split\n",
    "from sklearn.preprocessing import StandardScaler\n",
    "from sklearn.ensemble import RandomForestClassifier\n",
    "from sklearn.pipeline import Pipeline\n",
    "import joblib\n",
    "import os\n",
    "\n",
    "# Load reduced dataset (selected features)\n",
    "df = pd.read_csv(\"../data/heart_disease_selected_features.csv\")\n",
    "\n",
    "X = df.drop(columns=[\"num\"])\n",
    "y = (df[\"num\"] > 0).astype(int)  # binary target\n",
    "\n",
    "X_train, X_test, y_train, y_test = train_test_split(\n",
    "    X, y, test_size=0.2, random_state=42, stratify=y\n",
    ")\n"
   ]
  },
  {
   "cell_type": "code",
   "execution_count": 2,
   "id": "4c56dc74",
   "metadata": {},
   "outputs": [
    {
     "name": "stdout",
     "output_type": "stream",
     "text": [
      "Pipeline trained successfully!\n"
     ]
    }
   ],
   "source": [
    "# Example: Random Forest inside a pipeline with StandardScaler\n",
    "pipeline = Pipeline([\n",
    "    (\"scaler\", StandardScaler()),   # keep consistent preprocessing\n",
    "    (\"model\", RandomForestClassifier(n_estimators=200, random_state=42))\n",
    "])\n",
    "\n",
    "# Train\n",
    "pipeline.fit(X_train, y_train)\n",
    "\n",
    "print(\"Pipeline trained successfully!\")\n"
   ]
  },
  {
   "cell_type": "code",
   "execution_count": 3,
   "id": "45fd41b7",
   "metadata": {},
   "outputs": [
    {
     "name": "stdout",
     "output_type": "stream",
     "text": [
      "Saved pipeline model → ../models/final_model.pkl\n"
     ]
    }
   ],
   "source": [
    "# Ensure models directory exists\n",
    "os.makedirs(\"../models\", exist_ok=True)\n",
    "\n",
    "# Save pipeline\n",
    "joblib.dump(pipeline, \"../models/final_model.pkl\")\n",
    "print(\"Saved pipeline model → ../models/final_model.pkl\")\n"
   ]
  },
  {
   "cell_type": "code",
   "execution_count": 4,
   "id": "bf8d59ca",
   "metadata": {},
   "outputs": [
    {
     "name": "stdout",
     "output_type": "stream",
     "text": [
      "Sample predictions: [0, 1, 0, 0, 0]\n"
     ]
    }
   ],
   "source": [
    "# Load model back\n",
    "loaded_model = joblib.load(\"../models/final_model.pkl\")\n",
    "\n",
    "# Test on new data\n",
    "sample_pred = loaded_model.predict(X_test[:5])\n",
    "print(\"Sample predictions:\", sample_pred.tolist())\n"
   ]
  },
  {
   "cell_type": "code",
   "execution_count": null,
   "id": "7e3bd546",
   "metadata": {},
   "outputs": [],
   "source": []
  }
 ],
 "metadata": {
  "kernelspec": {
   "display_name": "Python 3 (ipykernel)",
   "language": "python",
   "name": "python3"
  },
  "language_info": {
   "codemirror_mode": {
    "name": "ipython",
    "version": 3
   },
   "file_extension": ".py",
   "mimetype": "text/x-python",
   "name": "python",
   "nbconvert_exporter": "python",
   "pygments_lexer": "ipython3",
   "version": "3.11.5"
  }
 },
 "nbformat": 4,
 "nbformat_minor": 5
}
